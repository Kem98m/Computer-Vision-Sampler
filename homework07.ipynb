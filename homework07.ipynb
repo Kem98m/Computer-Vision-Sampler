{
  "nbformat": 4,
  "nbformat_minor": 0,
  "metadata": {
    "kernelspec": {
      "display_name": "Python 3",
      "language": "python",
      "name": "python3"
    },
    "language_info": {
      "codemirror_mode": {
        "name": "ipython",
        "version": 3
      },
      "file_extension": ".py",
      "mimetype": "text/x-python",
      "name": "python",
      "nbconvert_exporter": "python",
      "pygments_lexer": "ipython3",
      "version": "3.9.2"
    },
    "pycharm": {
      "stem_cell": {
        "cell_type": "raw",
        "metadata": {
          "collapsed": false
        },
        "source": []
      }
    },
    "colab": {
      "provenance": [],
      "toc_visible": true,
      "include_colab_link": true
    }
  },
  "cells": [
    {
      "cell_type": "markdown",
      "metadata": {
        "id": "view-in-github",
        "colab_type": "text"
      },
      "source": [
        "<a href=\"https://colab.research.google.com/github/Kem98m/Computer-Vision-Sampler/blob/main/homework07.ipynb\" target=\"_parent\"><img src=\"https://colab.research.google.com/assets/colab-badge.svg\" alt=\"Open In Colab\"/></a>"
      ]
    },
    {
      "cell_type": "markdown",
      "metadata": {
        "tags": [
          "AST"
        ],
        "id": "7jsFZnMI11fF"
      },
      "source": [
        "<style>\n",
        "    @media print{\n",
        "        body {\n",
        "            position:relative !important;\n",
        "        }\n",
        "        .celltag_new_page {\n",
        "            page-break-before: always !important;\n",
        "        }\n",
        "    }\n",
        "</style>\n",
        "# COMPSCI 527 Homework 7"
      ]
    },
    {
      "cell_type": "markdown",
      "metadata": {
        "id": "Xe7dridrMzno"
      },
      "source": [
        "By: Pratik Mulpury and Kenneth Marenco\n"
      ]
    },
    {
      "cell_type": "markdown",
      "metadata": {
        "tags": [
          "AT"
        ],
        "id": "Jn6zldqW11fM"
      },
      "source": [
        "### Problem 0 (3 points)"
      ]
    },
    {
      "cell_type": "markdown",
      "metadata": {
        "tags": [
          "AST"
        ],
        "id": "pvBoqQSg11fN"
      },
      "source": [
        "## Part 1: Vector Geometry"
      ]
    },
    {
      "cell_type": "markdown",
      "metadata": {
        "tags": [
          "AST"
        ],
        "id": "QZEBDuxH11fN"
      },
      "source": [
        "### Problem 1.1 (Exam Style)"
      ]
    },
    {
      "cell_type": "markdown",
      "metadata": {
        "id": "Dhk91l913CSB"
      },
      "source": [
        "For a matrix to be invertible, there must be a matrix with which matrix multiplication will lead to the identity matrix. For there to be an inverse the matrix must be a square matrix. Because a 3x2 is not a square matrix, it has no inverse.\n"
      ]
    },
    {
      "cell_type": "markdown",
      "metadata": {
        "tags": [
          "AST"
        ],
        "id": "GJtjsUp_11fN"
      },
      "source": [
        "### Problem 1.2 (Exam Style)"
      ]
    },
    {
      "cell_type": "markdown",
      "metadata": {
        "id": "oz1HtmeN3Euw"
      },
      "source": [
        "If matrix B is mxn and the rank of B is n, then B has a left inverse of nxm. If a matrix B has rank m, it has a a right inverse. By this knowledge, it is derived that a square kxk matrix will have both a right and left inverse if it has rank k. This also means that the left and right inverse are equal. "
      ]
    },
    {
      "cell_type": "markdown",
      "metadata": {
        "tags": [
          "AST"
        ],
        "id": "pFV5zk1y11fN"
      },
      "source": [
        "### Problem 1.3 (Exam Style)"
      ]
    },
    {
      "cell_type": "markdown",
      "metadata": {
        "id": "hvkUiSZ83G2N"
      },
      "source": [
        "$$ H = \\frac{nn^T}{n^Tn}$$"
      ]
    },
    {
      "cell_type": "markdown",
      "metadata": {
        "tags": [
          "AST"
        ],
        "id": "7vI2j5X111fO"
      },
      "source": [
        "### Problem 1.4 (Exam Style)"
      ]
    },
    {
      "cell_type": "markdown",
      "metadata": {
        "id": "A7UTY4wL3IJm"
      },
      "source": [
        "To get the unit vector c, you take the cross product of a and b to get\n",
        "$$ C = 2i-2k$$\n",
        "this is a vector orthogonal to a and b which must be normalized to make it into a unit vector.\n",
        "$$ c = \\frac{sqrt(2)}{2}i - \\frac{sqrt(2)}{2}k$$"
      ]
    },
    {
      "cell_type": "markdown",
      "metadata": {
        "tags": [
          "AST"
        ],
        "id": "Np4bgSk911fO"
      },
      "source": [
        "### Problem 1.5 (Exam Style)"
      ]
    },
    {
      "cell_type": "markdown",
      "metadata": {
        "id": "QPKJbcrq3MCG"
      },
      "source": [
        "The volume of the parallelpepiped is the cross product of a and b and then taking the dot product with c to get a volume of 20."
      ]
    },
    {
      "cell_type": "markdown",
      "metadata": {
        "tags": [
          "AST"
        ],
        "id": "zchpQHhS11fO"
      },
      "source": [
        "### Problem 1.6 (Exam Style)"
      ]
    },
    {
      "cell_type": "markdown",
      "metadata": {
        "id": "xAt5TG4p3OFj"
      },
      "source": [
        "For the face to be visible, the expression necessary is\n",
        "$$ n^T(f-c) $$\n",
        "This is due frame transformation. For getting the vector between the face of the cube and camera, we subtract vector c from f which is still in the world frame. We then multiply by the unit normal vector of the cube's face to get the projection."
      ]
    },
    {
      "cell_type": "markdown",
      "metadata": {
        "tags": [
          "AST"
        ],
        "id": "yPYnVHsL11fP"
      },
      "source": [
        "## Part 2: Rotations in the Plane "
      ]
    },
    {
      "cell_type": "markdown",
      "metadata": {
        "tags": [
          "AST"
        ],
        "id": "qd3jLsXT11fP"
      },
      "source": [
        "### Problem 2.1 (Exam Style)"
      ]
    },
    {
      "cell_type": "markdown",
      "metadata": {
        "id": "Ab-2yGYL3R8s"
      },
      "source": [
        "$$R = \\begin{bmatrix} cos(\\theta)i & -sin(\\theta)j \\\\ sin(\\theta)i & cos(\\theta)j \\end{bmatrix}$$"
      ]
    },
    {
      "cell_type": "markdown",
      "metadata": {
        "tags": [
          "AST"
        ],
        "id": "I2FKfHcn11fP"
      },
      "source": [
        "### Problem 2.2 (Exam Style)"
      ]
    },
    {
      "cell_type": "markdown",
      "metadata": {
        "id": "cEZhVuJa3Sra"
      },
      "source": [
        "$$\\tilde{R} = \\begin{bmatrix} cos(\\theta) & -sin(\\theta) \\\\ sin(\\theta) & cos(\\theta) \\end{bmatrix}$$\n",
        "For \n",
        "$$ P = \\tilde{R}p$$"
      ]
    },
    {
      "cell_type": "markdown",
      "metadata": {
        "tags": [
          "AST"
        ],
        "id": "xI10IgfR11fP"
      },
      "source": [
        "### Problem 2.3 (Exam Style)"
      ]
    },
    {
      "cell_type": "markdown",
      "metadata": {
        "id": "euzryXX23TP5"
      },
      "source": [
        "By rotating the object (reference) frame 30 degrees, we can picture that the object frame now has some projection onto the world frame. By taking the projection of the unit vectors of the reference frame on the world's x and y axes, an independent amount of degrees was turned. This is representative by taking the sines and cosines of angle. This is independent of where the world or reference fram starts since the projections are not dependent on other factors. Because of this, a rotation of 30 degrees and then 60 degrees will achieve the same as a rotation of 60 and then 30 degrees meaning that rotation is commutative. "
      ]
    },
    {
      "cell_type": "markdown",
      "metadata": {
        "tags": [
          "AST"
        ],
        "id": "3QfHBiQN11fP"
      },
      "source": [
        "## Part 3: Euler's Rotation Theorem "
      ]
    },
    {
      "cell_type": "markdown",
      "metadata": {
        "tags": [
          "AST"
        ],
        "id": "SwC-7ryr11fP"
      },
      "source": [
        "### Problem 3.1 (Exam Style)"
      ]
    },
    {
      "cell_type": "markdown",
      "metadata": {
        "id": "7Nlt98BKJUvR"
      },
      "source": [
        "The first fact of Euler's theorem restated in terms of eigenvalues and eigenvectors is that for every rotation R, there exists a vector a with a corresponding eigenvalue 1 such that Ra=a and there is a single line xa which isn't moved by the rotation."
      ]
    },
    {
      "cell_type": "markdown",
      "metadata": {
        "tags": [
          "AST"
        ],
        "id": "pnGN615v11fQ"
      },
      "source": [
        "### Problem 3.2"
      ]
    },
    {
      "cell_type": "code",
      "metadata": {
        "tags": [
          "AST"
        ],
        "id": "DW41jqth11fQ",
        "colab": {
          "base_uri": "https://localhost:8080/"
        },
        "outputId": "9d2bfd98-86f9-4041-8517-631d048ea28d"
      },
      "source": [
        "import numpy as np\n",
        "\n",
        "\n",
        "\n",
        "a = np.array([20,0,0])\n",
        "b = np.array([11,11,14])\n",
        "c = np.cross(a,b)\n",
        "print(c/np.linalg.norm(c))\n",
        "print(\"smd\")"
      ],
      "execution_count": null,
      "outputs": [
        {
          "output_type": "stream",
          "text": [
            "[ 0.         -0.78631834  0.61782155]\n",
            "smd\n"
          ],
          "name": "stdout"
        }
      ]
    },
    {
      "cell_type": "code",
      "metadata": {
        "tags": [
          "AST"
        ],
        "colab": {
          "base_uri": "https://localhost:8080/"
        },
        "id": "aRPzAHiB11fQ",
        "outputId": "c54ae1d4-e8a5-4c6b-973b-62d0afb84487"
      },
      "source": [
        "import urllib.request\n",
        "import pickle\n",
        "from os import path as osp\n",
        "\n",
        "\n",
        "def retrieve(file_name, semester='spring21', homework=7):\n",
        "    if osp.exists(file_name):\n",
        "        print('Using previously downloaded file {}'.format(file_name))\n",
        "    else:\n",
        "        fmt = 'https://www2.cs.duke.edu/courses/{}/compsci527/homework/{}/{}'\n",
        "        url = fmt.format(semester, homework, file_name)\n",
        "        urllib.request.urlretrieve(url, file_name)\n",
        "        print('Downloaded file {}'.format(file_name))\n",
        "\n",
        "rotations_pickle = 'rotations.pkl'\n",
        "retrieve(rotations_pickle)\n",
        "with open(rotations_pickle, 'rb') as file:\n",
        "    rotations = pickle.load(file)"
      ],
      "execution_count": null,
      "outputs": [
        {
          "output_type": "stream",
          "text": [
            "Downloaded file rotations.pkl\n"
          ],
          "name": "stdout"
        }
      ]
    },
    {
      "cell_type": "code",
      "metadata": {
        "tags": [
          "AST"
        ],
        "colab": {
          "base_uri": "https://localhost:8080/"
        },
        "id": "3OBa9tuu11fR",
        "outputId": "bf16b2cd-c6ae-4b6a-f85d-49f71c084c2f"
      },
      "source": [
        "def print_array(a, name=None, unit=None, indent=0):\n",
        "    dims = a.ndim\n",
        "    assert dims == 1 or dims == 2, 'Can only print vectors or matrices'\n",
        "    tabs = '\\t' * indent\n",
        "    prefix = tabs if name is None else '{}{}: '.format(tabs, name)\n",
        "    suffix = '' if unit is None else ' {}'.format(unit)\n",
        "    with np.printoptions(precision=3, suppress=True):\n",
        "        if dims == 1:\n",
        "            print('{}{}{}'.format(prefix, a, suffix))\n",
        "        else:\n",
        "            if len(suffix):\n",
        "                suffix = ' ({})'.format(suffix)\n",
        "            print('{}'.format(prefix, suffix))\n",
        "            for row in a:\n",
        "                print(tabs, '\\t', row, sep='', end='\\n')\n",
        "\n",
        "for R in rotations:\n",
        "  print(\"For the following rotation matrix\")\n",
        "  print_array(R)\n",
        "  print(\"this is the axis-angle vector.\")\n",
        "  print_array(rotation_matrix_to_vector(R))\n",
        "  print(\"\")\n",
        "print_array(rotations[0])\n",
        "rotation_matrix_to_vector(rotations[0])"
      ],
      "execution_count": null,
      "outputs": [
        {
          "output_type": "stream",
          "text": [
            "For the following rotation matrix\n",
            "\n",
            "\t[1. 0. 0.]\n",
            "\t[0. 1. 0.]\n",
            "\t[0. 0. 1.]\n",
            "this is the axis-angle vector.\n",
            "[0. 0. 0.]\n",
            "\n",
            "For the following rotation matrix\n",
            "\n",
            "\t[1. 0. 0.]\n",
            "\t[ 0.     0.866 -0.5  ]\n",
            "\t[0.    0.5   0.866]\n",
            "this is the axis-angle vector.\n",
            "[0.524 0.    0.   ]\n",
            "\n",
            "For the following rotation matrix\n",
            "\n",
            "\t[1. 0. 0.]\n",
            "\t[0.    0.5   0.866]\n",
            "\t[ 0.    -0.866  0.5  ]\n",
            "this is the axis-angle vector.\n",
            "[-1.047  0.     0.   ]\n",
            "\n",
            "For the following rotation matrix\n",
            "\n",
            "\t[0. 0. 1.]\n",
            "\t[0. 1. 0.]\n",
            "\t[-1.  0.  0.]\n",
            "this is the axis-angle vector.\n",
            "[0.    1.571 0.   ]\n",
            "\n",
            "For the following rotation matrix\n",
            "\n",
            "\t[-0.     0.707 -0.707]\n",
            "\t[-0.707  0.5    0.5  ]\n",
            "\t[0.707 0.5   0.5  ]\n",
            "this is the axis-angle vector.\n",
            "[-0.    -1.111 -1.111]\n",
            "\n",
            "\n",
            "\t[1. 0. 0.]\n",
            "\t[0. 1. 0.]\n",
            "\t[0. 0. 1.]\n"
          ],
          "name": "stdout"
        },
        {
          "output_type": "execute_result",
          "data": {
            "text/plain": [
              "array([0., 0., 0.])"
            ]
          },
          "metadata": {
            "tags": []
          },
          "execution_count": 3
        }
      ]
    },
    {
      "cell_type": "markdown",
      "metadata": {
        "tags": [
          "AST"
        ],
        "id": "zrqeXKGG11fR"
      },
      "source": [
        "### Problem 3.3"
      ]
    },
    {
      "cell_type": "code",
      "metadata": {
        "tags": [
          "AST"
        ],
        "id": "yYyYYAhQ11fS",
        "colab": {
          "base_uri": "https://localhost:8080/"
        },
        "outputId": "b0453b67-143d-45a6-da8d-651843a6a30e"
      },
      "source": [
        "from scipy.linalg import null_space\n",
        "\n",
        "A = np.array([[0, -1, -1.7320508075],\n",
        "              [-1, 0,0],\n",
        "              [1.7320508075,0,0]\n",
        "              ])\n",
        "test = np.array([0,.8660254,-.5])\n",
        "ns = null_space(A)\n",
        "print(np.matmul(A,test))\n",
        "print(\"kms\")\n",
        "print(ns)\n",
        "print(np.linalg.norm(ns))\n",
        "\n"
      ],
      "execution_count": null,
      "outputs": [
        {
          "output_type": "stream",
          "text": [
            "[3.75000009e-09 0.00000000e+00 0.00000000e+00]\n",
            "kms\n",
            "[[ 0.       ]\n",
            " [-0.8660254]\n",
            " [ 0.5      ]]\n",
            "0.9999999999999999\n"
          ],
          "name": "stdout"
        }
      ]
    },
    {
      "cell_type": "code",
      "metadata": {
        "tags": [
          "AST"
        ],
        "colab": {
          "base_uri": "https://localhost:8080/"
        },
        "id": "ZsCVuj-w11fS",
        "outputId": "af30cd42-935a-4745-dd70-9cca0f4791d8"
      },
      "source": [
        "\n",
        "def rotation_vector_to_matrix(r):\n",
        "  print(r)\n",
        "  a = rotation_basis(r)[:,0]\n",
        "  theta = np.linalg.norm(r)\n",
        "  if(theta==0):\n",
        "    np.identity(r.shape[0])\n",
        "  xform = rotation_basis(r)\n",
        "  rx = rotation_x(theta)\n",
        "  return np.matmul(np.matmul(xform,rx),xform.T)\n",
        "\n",
        "axis_angle_pickle = 'angle_axis.pkl'\n",
        "\n",
        "retrieve(axis_angle_pickle)\n",
        "with open(axis_angle_pickle, 'rb') as file:\n",
        "    vectors = pickle.load(file)\n",
        "\n",
        "for v in vectors:\n",
        "  print_array(v,\"Axis-Angle Vector\")\n",
        "  print_array(rotation_vector_to_matrix(v),\"Rotation Matrix\")"
      ],
      "execution_count": null,
      "outputs": [
        {
          "output_type": "stream",
          "text": [
            "Using previously downloaded file angle_axis.pkl\n",
            "Axis-Angle Vector: [0. 0. 0.]\n",
            "[0. 0. 0.]\n",
            "Rotation Matrix: \n",
            "\t[1. 0. 0.]\n",
            "\t[0. 1. 0.]\n",
            "\t[0. 0. 1.]\n",
            "Axis-Angle Vector: [0.    0.    1.047]\n",
            "[0.         0.         1.04719755]\n",
            "Rotation Matrix: \n",
            "\t[ 0.5   -0.866  0.   ]\n",
            "\t[0.866 0.5   0.   ]\n",
            "\t[0. 0. 1.]\n",
            "Axis-Angle Vector: [-0.785 -0.    -0.   ]\n",
            "[-0.78539816 -0.         -0.        ]\n",
            "Rotation Matrix: \n",
            "\t[1. 0. 0.]\n",
            "\t[0.    0.707 0.707]\n",
            "\t[ 0.    -0.707  0.707]\n",
            "Axis-Angle Vector: [1.111 1.111 0.   ]\n",
            "[1.11072073 1.11072073 0.        ]\n",
            "Rotation Matrix: \n",
            "\t[0.5   0.5   0.707]\n",
            "\t[ 0.5    0.5   -0.707]\n",
            "\t[-0.707  0.707  0.   ]\n",
            "Axis-Angle Vector: [-0.37 -0.   -0.37]\n",
            "[-0.37024024 -0.         -0.37024024]\n",
            "Rotation Matrix: \n",
            "\t[0.933 0.354 0.067]\n",
            "\t[-0.354  0.866  0.354]\n",
            "\t[ 0.067 -0.354  0.933]\n"
          ],
          "name": "stdout"
        }
      ]
    },
    {
      "cell_type": "markdown",
      "metadata": {
        "tags": [
          "AST"
        ],
        "id": "fG7m1ZZm11fS"
      },
      "source": [
        "## Part 4: Perspective Projection "
      ]
    },
    {
      "cell_type": "markdown",
      "metadata": {
        "tags": [
          "AST"
        ],
        "id": "AumPW2uy11fS"
      },
      "source": [
        "### Problem 4.1"
      ]
    },
    {
      "cell_type": "code",
      "metadata": {
        "tags": [
          "AST"
        ],
        "id": "0EI8fCs_11fS"
      },
      "source": [
        "from types import SimpleNamespace\n",
        "def transform(p, r=None, t=None):\n",
        "    if r is None:\n",
        "        r = np.eye(p.shape[0])\n",
        "    if t is None:\n",
        "        t = np.zeros(p.shape[0])\n",
        "    shifts = np.outer(t, np.ones(p.shape[1]))\n",
        "    return r @ (p - shifts)\n",
        "\n",
        "def new_camera(radius,t,pixels,pixel_microns):\n",
        "\n",
        "    k = t/np.linalg.norm(t) *-1\n",
        "    i = np.cross(k,[0,0,1])\n",
        "    i = i/np.linalg.norm(i)\n",
        "    j = np.cross(k,i)\n",
        "    j= j/np.linalg.norm(j)\n",
        "    R = np.array([i,j,k])\n",
        "\n",
        "    pi = pixels/2\n",
        "\n",
        "    f = (pixels[1]*pixel_microns/1000)/2/np.tan((2*np.arcsin(radius/(np.linalg.norm(t))))/2)\n",
        "\n",
        "    s = np.ones(2)*pixels[1]/2/radius\n",
        "\n",
        "    return SimpleNamespace(R=R,t=t,pixels=pixels,pi=pi,f=f,s=s)"
      ],
      "execution_count": null,
      "outputs": []
    },
    {
      "cell_type": "code",
      "metadata": {
        "tags": [
          "AST"
        ],
        "id": "mt03IPu511fT"
      },
      "source": [
        "radius_mm, distance_mm = 60., 200.\n",
        "t_mm = distance_mm * np.ones(3, dtype=float) / np.sqrt(3.)\n",
        "\n",
        "camera = new_camera(radius_mm,t=t_mm,pixels=np.array([1920,1080]),pixel_microns=5)"
      ],
      "execution_count": null,
      "outputs": []
    },
    {
      "cell_type": "markdown",
      "metadata": {
        "id": "ycZoOh4S11fT"
      },
      "source": [
        "![field of view](https://www2.cs.duke.edu/courses/spring21/compsci527/homework/7/fov.png)"
      ]
    },
    {
      "cell_type": "code",
      "metadata": {
        "tags": [
          "AST"
        ],
        "id": "EG1A0MRn11fT"
      },
      "source": [
        "def print_camera(model):\n",
        "    with np.printoptions(precision=3, suppress=True):\n",
        "        print('Extrinsic parameters:')\n",
        "        print_array(model.t, 'Origin', 'mm', indent=1)\n",
        "        print_array(model.R, 'Rotation matrix', indent=1)\n",
        "\n",
        "        print('\\nIntrinsic parameters:')\n",
        "        print('\\tFocal distance: {:.3f} mm'.format(model.f))\n",
        "        print_array(model.s, 'Scaling', 'pixels per mm', indent=1)\n",
        "        print_array(model.pi, 'Principal point', 'pixels', indent=1)"
      ],
      "execution_count": null,
      "outputs": []
    },
    {
      "cell_type": "markdown",
      "metadata": {
        "tags": [
          "AST"
        ],
        "id": "NSFGUBWw11fT"
      },
      "source": [
        "### Problem 4.2"
      ]
    },
    {
      "cell_type": "code",
      "metadata": {
        "tags": [
          "AST"
        ],
        "id": "Ca7fT6DT11fT",
        "colab": {
          "base_uri": "https://localhost:8080/",
          "height": 551
        },
        "outputId": "420b4080-793f-4268-a05d-25b4986faafe"
      },
      "source": [
        "retrieve('transform.py')\n",
        "retrieve('rubik.py')\n",
        "\n",
        "from rubik import new_cube, draw_cube\n",
        "\n",
        "rubik_cube = new_cube()\n",
        "draw_cube(rubik_cube, camera)"
      ],
      "execution_count": null,
      "outputs": [
        {
          "output_type": "stream",
          "text": [
            "Using previously downloaded file transform.py\n",
            "Using previously downloaded file rubik.py\n"
          ],
          "name": "stdout"
        },
        {
          "output_type": "display_data",
          "data": {
            "image/png": "[encoded data removed]",
            "text/plain": [
              "<Figure size 1382.4x777.6 with 1 Axes>"
            ]
          },
          "metadata": {
            "tags": [],
            "needs_background": "light"
          }
        }
      ]
    },
    {
      "cell_type": "code",
      "metadata": {
        "tags": [
          "AST"
        ],
        "id": "f4kp7MNn11fU",
        "colab": {
          "base_uri": "https://localhost:8080/",
          "height": 517
        },
        "outputId": "920031b8-e205-44b1-dec3-aff593d69608"
      },
      "source": [
        "rear_t_mm = distance_mm * np.array((-1, -1, 2), \\\n",
        "                                   dtype=float) / np.sqrt(6.)\n",
        "\n",
        "camera = new_camera(radius=radius_mm,t=rear_t_mm,pixels=np.array([1920,1080]),pixel_microns=5)\n",
        "draw_cube(rubik_cube,camera)"
      ],
      "execution_count": null,
      "outputs": [
        {
          "output_type": "display_data",
          "data": {
            "image/png": "[encoded data removed]",
            "text/plain": [
              "<Figure size 1382.4x777.6 with 1 Axes>"
            ]
          },
          "metadata": {
            "tags": [],
            "needs_background": "light"
          }
        }
      ]
    },
    {
      "cell_type": "code",
      "metadata": {
        "id": "jEiQIHuS11fU"
      },
      "source": [],
      "execution_count": null,
      "outputs": []
    }
  ]
}