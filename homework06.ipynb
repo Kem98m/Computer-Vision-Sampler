{
  "nbformat": 4,
  "nbformat_minor": 0,
  "metadata": {
    "celltoolbar": "Tags",
    "kernelspec": {
      "display_name": "Python 3",
      "language": "python",
      "name": "python3"
    },
    "language_info": {
      "codemirror_mode": {
        "name": "ipython",
        "version": 3
      },
      "file_extension": ".py",
      "mimetype": "text/x-python",
      "name": "python",
      "nbconvert_exporter": "python",
      "pygments_lexer": "ipython3",
      "version": "3.9.2"
    },
    "pycharm": {
      "stem_cell": {
        "cell_type": "raw",
        "metadata": {
          "collapsed": false
        },
        "source": []
      }
    },
    "colab": {
      "provenance": [],
      "toc_visible": true,
      "include_colab_link": true
    }
  },
  "cells": [
    {
      "cell_type": "markdown",
      "metadata": {
        "id": "view-in-github",
        "colab_type": "text"
      },
      "source": [
        "<a href=\"https://colab.research.google.com/github/Kem98m/Computer-Vision-Sampler/blob/main/homework06.ipynb\" target=\"_parent\"><img src=\"https://colab.research.google.com/assets/colab-badge.svg\" alt=\"Open In Colab\"/></a>"
      ]
    },
    {
      "cell_type": "markdown",
      "metadata": {
        "tags": [
          "AST"
        ],
        "id": "NxAq1M211bz2"
      },
      "source": [
        "<style>\n",
        "    @media print{\n",
        "        body {\n",
        "            position:relative !important;\n",
        "        }\n",
        "        .celltag_new_page {\n",
        "            page-break-before: always !important;\n",
        "        }\n",
        "    }\n",
        "</style>\n",
        "# COMPSCI 527 Homework 6"
      ]
    },
    {
      "cell_type": "markdown",
      "metadata": {
        "tags": [
          "AT"
        ],
        "id": "_2kXPItn1bz6"
      },
      "source": [
        "### Problem 0 (3 points)\n",
        "\n",
        "Pratik Mulpury, Kenneth Marenco"
      ]
    },
    {
      "cell_type": "markdown",
      "metadata": {
        "tags": [
          "AST"
        ],
        "id": "Dp-Ail5A1bz7"
      },
      "source": [
        "## Part 1: Image Motion Basics "
      ]
    },
    {
      "cell_type": "markdown",
      "metadata": {
        "tags": [
          "AST"
        ],
        "id": "eKdrzk2e1bz7"
      },
      "source": [
        "### Problem 1.1 (Exam Style)"
      ]
    },
    {
      "cell_type": "markdown",
      "metadata": {
        "id": "mXX1vFhzsz-J"
      },
      "source": [
        "The normal component of the image field is \n",
        "$$ v(x) = || \\nabla e(x)||^{-1} [\\nabla e(x)]^T v_{vector}(x)$$ \n",
        "$$ ||\\nabla e(x)||^{-1} = \\frac{1}{\\sqrt{3^2 + 4^2}} = \\frac{1}{5} $$\n",
        "$$ \\nabla e(x)^T = [3,  4]$$\n",
        "$$ v_{vector}(x) = [1, 3]^T $$\n",
        "\n",
        "which means\n",
        "$$ v(x) = || \\nabla e(x)||^{-1} [\\nabla e(x)]^T v_{vector}(x) = 3$$ pixels per frame"
      ]
    },
    {
      "cell_type": "markdown",
      "metadata": {
        "tags": [
          "AST"
        ],
        "id": "BODkHUAi1bz7"
      },
      "source": [
        "### Problem 1.2 (Exam Style)"
      ]
    },
    {
      "cell_type": "markdown",
      "metadata": {
        "id": "M9cowHHi3zwu"
      },
      "source": [
        "Assuming the constant appearance of the object leads to the BCCE equation which can create a system of linear equations.\n",
        "\n",
        "$$ x_1: [1, 1] v_1 - 5 = 0$$\n",
        "\n",
        "\n",
        "$$ x_2: [-1, 1] v_2 + 1 = 0$$\n",
        "\n",
        "which after solving gives \n",
        "\n",
        "$$ v = [3, 2]^T$$\n"
      ]
    },
    {
      "cell_type": "markdown",
      "metadata": {
        "tags": [
          "AST"
        ],
        "id": "CWVHkRIA1bz8"
      },
      "source": [
        "## Part 2: Window Tracking "
      ]
    },
    {
      "cell_type": "markdown",
      "metadata": {
        "tags": [
          "AST"
        ],
        "id": "h7KzN15S1bz8"
      },
      "source": [
        "### Problem 2.1 (Exam Style)"
      ]
    },
    {
      "cell_type": "markdown",
      "metadata": {
        "id": "aKPRz3euLDSK"
      },
      "source": [
        "The matrix A is created to using the information provided to create\n",
        "\n",
        "\\begin{bmatrix}\n",
        "(\\frac{\\partial g}{\\partial x_1})^2 & \\frac{\\partial g}{\\partial x_1} \\frac{\\partial g}{\\partial x_2} \\\\\n",
        "\\frac{\\partial g}{\\partial x_1} \\frac{\\partial g}{\\partial x_2} & (\\frac{\\partial g}{\\partial x_2})^2\n",
        "\\end{bmatrix}\n",
        "\n",
        " which expands to\n",
        " \\begin{bmatrix}\n",
        " 60 & 32& 44& 90& 48&\n",
        "66 \\\\\n",
        " 68 &28& 44& 102& 42&\n",
        "66 \\\\\n",
        " 52 & 28& 32& 78& 42&\n",
        "48 \\\\\n",
        " 90 & 48& 66& 135& 72&\n",
        "99 \\\\\n",
        " 102 & 42& 66& 153& 63&\n",
        "99 \\\\\n",
        " 78 & 42& 48& 117& 63&\n",
        "72 \n",
        " \\end{bmatrix}\n",
        "\n",
        " vector b is expanded into\n",
        "\n",
        "\\begin{bmatrix}\n",
        " 60 & 30& 20\\\\\n",
        " 30 &40& 20\\\\\n",
        " 60 & 10& 40\\\\\n",
        " 90 & 45& 30\\\\\n",
        " 45 & 60& 30\\\\\n",
        " 90 & 15& 60\n",
        "\\end{bmatrix}"
      ]
    },
    {
      "cell_type": "markdown",
      "metadata": {
        "tags": [
          "AST"
        ],
        "id": "D6LxcixH1bz8"
      },
      "source": [
        "### Problem 2.2 (Exam Style)"
      ]
    },
    {
      "cell_type": "markdown",
      "metadata": {
        "id": "tYConPB0bnDs"
      },
      "source": [
        "The feature at $x_f$ suffers from the aperture problem because when the image gradient is non-zero the component orthogonal is not observable."
      ]
    },
    {
      "cell_type": "markdown",
      "metadata": {
        "tags": [
          "AST"
        ],
        "id": "DEzw-tTR1bz8"
      },
      "source": [
        "### Problem 2.3"
      ]
    },
    {
      "cell_type": "markdown",
      "metadata": {
        "tags": [
          "AST"
        ],
        "id": "OMwUFKRH1bz8"
      },
      "source": [
        "### Problem 2.4"
      ]
    },
    {
      "cell_type": "markdown",
      "metadata": {
        "tags": [
          "AST"
        ],
        "id": "Jc7_o-7p1bz9"
      },
      "source": [
        "## Part 3: The Lucas-Kanade Tracker"
      ]
    },
    {
      "cell_type": "markdown",
      "metadata": {
        "tags": [
          "AST"
        ],
        "id": "-R-K0Cgn1bz9"
      },
      "source": [
        "### Problem 3.1"
      ]
    },
    {
      "cell_type": "code",
      "metadata": {
        "id": "soPWBQ_s1kx4",
        "colab": {
          "base_uri": "https://localhost:8080/",
          "height": 541
        },
        "outputId": "279a415e-fc91-45db-d6ab-1ffb0490b14a"
      },
      "source": [
        "import autograd.numpy as np\n",
        "from autograd import grad\n",
        "from matplotlib import pyplot as plt\n",
        "def f1(x,sigma):\n",
        "    return np.exp(-(x/sigma) ** 2 / 2.)\n",
        "\n",
        "def g1(x,sigma):\n",
        "    out = np.exp(-(x/sigma) ** 2 / 2.)\n",
        "    return np.gradient(out)\n",
        "\n",
        "def averaging_kernel(sigma):\n",
        "  h = np.ceil(3*sigma)\n",
        "  h = np.int64(h)\n",
        "  n = 2*h+1\n",
        "  x = np.linspace(-h,h,n)\n",
        "  out = f1(x,sigma)\n",
        "  return out/np.sum(out),x\n",
        "\n",
        "\n",
        "def differentiation_kernel(sigma):\n",
        "  h = np.ceil(3*sigma)\n",
        "  h = np.int64(h)\n",
        "  n = 2*h+1\n",
        "  x = np.linspace(-h,h,n)\n",
        "  out = g1(x,sigma)\n",
        "  return out/np.sum(out),x\n",
        "  \n",
        "avg_kernel,x1 = averaging_kernel(5)\n",
        "dif_kernel,x2 = differentiation_kernel(3)\n",
        "\n",
        "plt.figure()\n",
        "plt.xticks((-15,0,15))\n",
        "plt.scatter(x1,avg_kernel)\n",
        "plt.figure()\n",
        "plt.xticks((-9,0,9))\n",
        "plt.scatter(x2,dif_kernel)\n"
      ],
      "execution_count": null,
      "outputs": [
        {
          "output_type": "execute_result",
          "data": {
            "text/plain": [
              "<matplotlib.collections.PathCollection at 0x7f7aff42f7d0>"
            ]
          },
          "metadata": {
            "tags": []
          },
          "execution_count": 14
        },
        {
          "output_type": "display_data",
          "data": {
            "image/png": "[encoded data removed]",
            "text/plain": [
              "<Figure size 432x288 with 1 Axes>"
            ]
          },
          "metadata": {
            "tags": [],
            "needs_background": "light"
          }
        },
        {
          "output_type": "display_data",
          "data": {
            "image/png": "[encoded data removed]",
            "text/plain": [
              "<Figure size 432x288 with 1 Axes>"
            ]
          },
          "metadata": {
            "tags": [],
            "needs_background": "light"
          }
        }
      ]
    },
    {
      "cell_type": "markdown",
      "metadata": {
        "tags": [
          "AST"
        ],
        "id": "xQ6Cartt1bz9"
      },
      "source": [
        "### Problem 3.2"
      ]
    },
    {
      "cell_type": "code",
      "metadata": {
        "tags": [
          "AST"
        ],
        "id": "NqBGw1zm1bz9",
        "colab": {
          "base_uri": "https://localhost:8080/",
          "height": 130
        },
        "outputId": "4614d4f7-0735-45d3-994b-e41163d5d555"
      },
      "source": [
        "import urllib.request\n",
        "import pickle\n",
        "from os import path as osp\n",
        "import scipy\n",
        "\n",
        "pickle_file_name = 'inputs.pkl'\n",
        "if not osp.exists(pickle_file_name):\n",
        "    fmt = 'https://www2.cs.duke.edu/courses/spring21/compsci527/homework/6/{}'\n",
        "    url = fmt.format(pickle_file_name)\n",
        "    urllib.request.urlretrieve(url, pickle_file_name)\n",
        "with open(pickle_file_name, 'rb') as file:\n",
        "    inputs = pickle.load(file)\n",
        "f, g = inputs['f'], inputs['g']\n",
        "\n",
        "windowparam =1.5\n",
        "differentiationparam =1\n",
        "delta = 10**-3\n",
        "epsilon = 10**-6\n",
        "rho = 10\n",
        "maxiter = 30\n",
        "centers = np.arange(3,98)\n",
        "interpfunc = scipy.interpolate.interp1d(centers,f[3:98],kind=\"linear\",fill_value=\"extrapolate\")\n",
        "interpfunc2 = scipy.interpolate.interp1d(centers,g[3:98],kind=\"linear\",fill_value=\"extrapolate\")\n",
        "\n",
        "def lucas_kanade(f,g,xf,d0,delta,epsilon,rho):\n",
        "  w, X = averaging_kernel(windowparam)\n",
        "  diff, X = differentiation_kernel(1)\n",
        "  X=X+xf\n",
        "  i = interpfunc(X)\n",
        "  lucas_kandade_iter(0,0,0,X,w,xf,diff)\n",
        "\n",
        "def lucas_kandade_iter(d0,s,t,X,w,xf,diff,f,g):\n",
        "  done = False\n",
        "  lost = False\n",
        "  d = d0\n",
        "  while not done or lost:\n",
        "    t+=1\n",
        "    X = X+s\n",
        "    j = interpfunc2(X)\n",
        "    G = scipy.signal.convolve(j,diff,mode=\"same\")\n",
        "\n",
        "    cumsum = 0\n",
        "    for i in range(len(G)):\n",
        "      cumsum = cumsum+((G(i)**2) *(w(i)))\n",
        "    A = cumsum\n",
        "\n",
        "    cumsum = 0\n",
        "    for i in range(len(G)):\n",
        "      cumsum = cumsum+(G(i)**2)*np.floor(f(i+xf)-g(i+xf))*w(i)\n",
        "\n",
        "    b = cumsum\n",
        "    s = b/a\n",
        "    dold =d\n",
        "    d+=s\n",
        "    done = (np.abs(s) < delta) or \n",
        "    lost = (np.abs(d-d0) > rho) or\n",
        "\n",
        "  return d\n",
        "\n",
        "for center in centers:\n",
        "  lucas_kanade(f,g,center,0,delta,epsilon,rho)\n"
      ],
      "execution_count": null,
      "outputs": [
        {
          "output_type": "error",
          "ename": "SyntaxError",
          "evalue": "ignored",
          "traceback": [
            "\u001b[0;36m  File \u001b[0;32m\"<ipython-input-26-be8a8a4ae6b7>\"\u001b[0;36m, line \u001b[0;32m55\u001b[0m\n\u001b[0;31m    done = (np.abs(s) < delta) or\u001b[0m\n\u001b[0m                                  ^\u001b[0m\n\u001b[0;31mSyntaxError\u001b[0m\u001b[0;31m:\u001b[0m invalid syntax\n"
          ]
        }
      ]
    }
  ]
}